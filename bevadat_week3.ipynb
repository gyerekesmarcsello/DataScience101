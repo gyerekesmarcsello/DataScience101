{
 "cells": [
  {
   "cell_type": "code",
   "execution_count": 4,
   "id": "7bfc1618",
   "metadata": {},
   "outputs": [],
   "source": [
    "import numpy as np\n",
    "import matplotlib.pyplot as plt"
   ]
  },
  {
   "cell_type": "code",
   "execution_count": 7,
   "id": "cdbe2e78",
   "metadata": {},
   "outputs": [
    {
     "data": {
      "text/plain": [
       "array(0.5)"
      ]
     },
     "execution_count": 7,
     "metadata": {},
     "output_type": "execute_result"
    }
   ],
   "source": [
    "A = [0,1]\n",
    "B = [0,2]\n",
    "\n",
    "np.cov(A)"
   ]
  },
  {
   "cell_type": "code",
   "execution_count": 8,
   "id": "44fab0f0",
   "metadata": {},
   "outputs": [
    {
     "data": {
      "text/plain": [
       "array([[0.5, 1. ],\n",
       "       [1. , 2. ]])"
      ]
     },
     "execution_count": 8,
     "metadata": {},
     "output_type": "execute_result"
    }
   ],
   "source": [
    "np.cov(A,B)"
   ]
  },
  {
   "cell_type": "code",
   "execution_count": 13,
   "id": "564aacd9",
   "metadata": {},
   "outputs": [
    {
     "data": {
      "text/plain": [
       "array([[1., 1.],\n",
       "       [1., 1.]])"
      ]
     },
     "execution_count": 13,
     "metadata": {},
     "output_type": "execute_result"
    }
   ],
   "source": [
    "np.corrcoef(A,B)"
   ]
  },
  {
   "cell_type": "code",
   "execution_count": 23,
   "id": "53542232",
   "metadata": {},
   "outputs": [
    {
     "data": {
      "text/plain": [
       "0.236500650486537"
      ]
     },
     "execution_count": 23,
     "metadata": {},
     "output_type": "execute_result"
    }
   ],
   "source": [
    "np.random.random()"
   ]
  },
  {
   "cell_type": "code",
   "execution_count": 24,
   "id": "d1789205",
   "metadata": {},
   "outputs": [],
   "source": [
    "np.random.seed(42)"
   ]
  },
  {
   "cell_type": "code",
   "execution_count": 31,
   "id": "e2e07ee2",
   "metadata": {},
   "outputs": [
    {
     "name": "stdout",
     "output_type": "stream",
     "text": [
      "0.9507143064099162\n",
      "0.7319939418114051\n",
      "0.5986584841970366\n",
      "0.15601864044243652\n",
      "0.15599452033620265\n"
     ]
    }
   ],
   "source": [
    "for  i in range(5):\n",
    "    #np.random.seed(42)\n",
    "    print(np.random.random())"
   ]
  },
  {
   "cell_type": "code",
   "execution_count": 35,
   "id": "e6d71587",
   "metadata": {},
   "outputs": [],
   "source": [
    "def perform_bernoulli_trials(n,p):\n",
    "    n_success = 0\n",
    "    \n",
    "    for i in range(n):\n",
    "        ran_n = np.random.random()\n",
    "    \n",
    "        if ran_n < p:\n",
    "            n_success += 1\n",
    "        \n",
    "    return n_success"
   ]
  },
  {
   "cell_type": "code",
   "execution_count": 39,
   "id": "39d1334c",
   "metadata": {},
   "outputs": [
    {
     "data": {
      "text/plain": [
       "51"
      ]
     },
     "execution_count": 39,
     "metadata": {},
     "output_type": "execute_result"
    }
   ],
   "source": [
    "perform_bernoulli_trials(100, 0.5)"
   ]
  },
  {
   "cell_type": "code",
   "execution_count": 44,
   "id": "5f5774c9",
   "metadata": {},
   "outputs": [
    {
     "name": "stdout",
     "output_type": "stream",
     "text": [
      "5.033\n",
      "2.2045205828025285\n"
     ]
    }
   ],
   "source": [
    "n_def = np.empty(1000)\n",
    "for i in range(1000):\n",
    "    n_def[i] = perform_bernoulli_trials(100, 0.05)\n",
    "    \n",
    "#print(n_def)\n",
    "print(np.mean(n_def))\n",
    "print(np.std(n_def))"
   ]
  },
  {
   "cell_type": "code",
   "execution_count": 51,
   "id": "70770e48",
   "metadata": {},
   "outputs": [
    {
     "data": {
      "image/png": "[encoded data removed]",
      "text/plain": [
       "<Figure size 432x288 with 1 Axes>"
      ]
     },
     "metadata": {
      "needs_background": "light"
     },
     "output_type": "display_data"
    },
    {
     "name": "stdout",
     "output_type": "stream",
     "text": [
      "32\n"
     ]
    }
   ],
   "source": [
    "plt.hist(n_def, bins=int(max(n_def)), density=True)\n",
    "plt.xlabel(\"number of defaults out of 100 loans\")\n",
    "plt.ylabel(\"probability\")\n",
    "plt.show()\n",
    "\n",
    "print(len(n_def[n_def>=10]))"
   ]
  },
  {
   "cell_type": "code",
   "execution_count": 52,
   "id": "d47a8e15",
   "metadata": {},
   "outputs": [
    {
     "data": {
      "text/plain": [
       "{'whiskers': [<matplotlib.lines.Line2D at 0x2454094550>,\n",
       "  <matplotlib.lines.Line2D at 0x2454094820>],\n",
       " 'caps': [<matplotlib.lines.Line2D at 0x2454094bb0>,\n",
       "  <matplotlib.lines.Line2D at 0x2454094f40>],\n",
       " 'boxes': [<matplotlib.lines.Line2D at 0x2454094100>],\n",
       " 'medians': [<matplotlib.lines.Line2D at 0x24540a4310>],\n",
       " 'fliers': [<matplotlib.lines.Line2D at 0x24540a46a0>],\n",
       " 'means': []}"
      ]
     },
     "execution_count": 52,
     "metadata": {},
     "output_type": "execute_result"
    },
    {
     "data": {
      "image/png": "[encoded data removed]",
      "text/plain": [
       "<Figure size 432x288 with 1 Axes>"
      ]
     },
     "metadata": {
      "needs_background": "light"
     },
     "output_type": "display_data"
    }
   ],
   "source": [
    "plt.boxplot(n_def)"
   ]
  },
  {
   "cell_type": "code",
   "execution_count": 53,
   "id": "cc0b3f6e",
   "metadata": {},
   "outputs": [
    {
     "data": {
      "text/html": [
       "<div>\n",
       "<style scoped>\n",
       "    .dataframe tbody tr th:only-of-type {\n",
       "        vertical-align: middle;\n",
       "    }\n",
       "\n",
       "    .dataframe tbody tr th {\n",
       "        vertical-align: top;\n",
       "    }\n",
       "\n",
       "    .dataframe thead th {\n",
       "        text-align: right;\n",
       "    }\n",
       "</style>\n",
       "<table border=\"1\" class=\"dataframe\">\n",
       "  <thead>\n",
       "    <tr style=\"text-align: right;\">\n",
       "      <th></th>\n",
       "      <th>sepal_length</th>\n",
       "      <th>sepal_width</th>\n",
       "      <th>petal_length</th>\n",
       "      <th>petal_width</th>\n",
       "      <th>species</th>\n",
       "    </tr>\n",
       "  </thead>\n",
       "  <tbody>\n",
       "    <tr>\n",
       "      <th>0</th>\n",
       "      <td>5.1</td>\n",
       "      <td>3.5</td>\n",
       "      <td>1.4</td>\n",
       "      <td>0.2</td>\n",
       "      <td>Iris-setosa</td>\n",
       "    </tr>\n",
       "    <tr>\n",
       "      <th>1</th>\n",
       "      <td>4.9</td>\n",
       "      <td>3.0</td>\n",
       "      <td>1.4</td>\n",
       "      <td>0.2</td>\n",
       "      <td>Iris-setosa</td>\n",
       "    </tr>\n",
       "    <tr>\n",
       "      <th>2</th>\n",
       "      <td>4.7</td>\n",
       "      <td>3.2</td>\n",
       "      <td>1.3</td>\n",
       "      <td>0.2</td>\n",
       "      <td>Iris-setosa</td>\n",
       "    </tr>\n",
       "    <tr>\n",
       "      <th>3</th>\n",
       "      <td>4.6</td>\n",
       "      <td>3.1</td>\n",
       "      <td>1.5</td>\n",
       "      <td>0.2</td>\n",
       "      <td>Iris-setosa</td>\n",
       "    </tr>\n",
       "    <tr>\n",
       "      <th>4</th>\n",
       "      <td>5.0</td>\n",
       "      <td>3.6</td>\n",
       "      <td>1.4</td>\n",
       "      <td>0.2</td>\n",
       "      <td>Iris-setosa</td>\n",
       "    </tr>\n",
       "  </tbody>\n",
       "</table>\n",
       "</div>"
      ],
      "text/plain": [
       "   sepal_length  sepal_width  petal_length  petal_width      species\n",
       "0           5.1          3.5           1.4          0.2  Iris-setosa\n",
       "1           4.9          3.0           1.4          0.2  Iris-setosa\n",
       "2           4.7          3.2           1.3          0.2  Iris-setosa\n",
       "3           4.6          3.1           1.5          0.2  Iris-setosa\n",
       "4           5.0          3.6           1.4          0.2  Iris-setosa"
      ]
     },
     "execution_count": 53,
     "metadata": {},
     "output_type": "execute_result"
    }
   ],
   "source": [
    "import pandas as pd\n",
    "iris = pd.read_csv('iris.csv')\n",
    "\n",
    "iris.head()"
   ]
  },
  {
   "cell_type": "code",
   "execution_count": 60,
   "id": "2581b34b",
   "metadata": {},
   "outputs": [],
   "source": [
    "n_def = np.random.binomial(n=100,p=0.5,size=10000)"
   ]
  },
  {
   "cell_type": "code",
   "execution_count": 61,
   "id": "3f70047c",
   "metadata": {},
   "outputs": [
    {
     "data": {
      "image/png": "[encoded data removed]",
      "text/plain": [
       "<Figure size 432x288 with 1 Axes>"
      ]
     },
     "metadata": {
      "needs_background": "light"
     },
     "output_type": "display_data"
    }
   ],
   "source": [
    "plt.hist(n_def, bins=int(max(n_def)), density=True)\n",
    "plt.show()"
   ]
  },
  {
   "cell_type": "code",
   "execution_count": 64,
   "id": "21a783ea",
   "metadata": {},
   "outputs": [
    {
     "name": "stdout",
     "output_type": "stream",
     "text": [
      "5.0166\n",
      "2.2525817277071214\n"
     ]
    }
   ],
   "source": [
    "poisson = np.random.poisson(5,10000)\n",
    "poisson_avg = np.average(poisson)\n",
    "poisson_std = np.std(poisson)\n",
    "\n",
    "print(poisson_avg)\n",
    "print(poisson_std)"
   ]
  },
  {
   "cell_type": "code",
   "execution_count": null,
   "id": "68e46397",
   "metadata": {},
   "outputs": [],
   "source": []
  }
 ],
 "metadata": {
  "kernelspec": {
   "display_name": "Python 3 (ipykernel)",
   "language": "python",
   "name": "python3"
  },
  "language_info": {
   "codemirror_mode": {
    "name": "ipython",
    "version": 3
   },
   "file_extension": ".py",
   "mimetype": "text/x-python",
   "name": "python",
   "nbconvert_exporter": "python",
   "pygments_lexer": "ipython3",
   "version": "3.9.7"
  }
 },
 "nbformat": 4,
 "nbformat_minor": 5
}
