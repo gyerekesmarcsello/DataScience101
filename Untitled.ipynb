{
 "cells": [
  {
   "cell_type": "code",
   "execution_count": 2,
   "id": "0884eeae",
   "metadata": {},
   "outputs": [
    {
     "data": {
      "text/html": [
       "<div>\n",
       "<style scoped>\n",
       "    .dataframe tbody tr th:only-of-type {\n",
       "        vertical-align: middle;\n",
       "    }\n",
       "\n",
       "    .dataframe tbody tr th {\n",
       "        vertical-align: top;\n",
       "    }\n",
       "\n",
       "    .dataframe thead th {\n",
       "        text-align: right;\n",
       "    }\n",
       "</style>\n",
       "<table border=\"1\" class=\"dataframe\">\n",
       "  <thead>\n",
       "    <tr style=\"text-align: right;\">\n",
       "      <th></th>\n",
       "      <th>feature_0</th>\n",
       "      <th>feature_1</th>\n",
       "      <th>feature_2</th>\n",
       "      <th>feature_3</th>\n",
       "      <th>feature_4</th>\n",
       "      <th>feature_5</th>\n",
       "      <th>feature_6</th>\n",
       "      <th>feature_7</th>\n",
       "      <th>feature_8</th>\n",
       "      <th>feature_9</th>\n",
       "      <th>label</th>\n",
       "    </tr>\n",
       "  </thead>\n",
       "  <tbody>\n",
       "    <tr>\n",
       "      <th>0</th>\n",
       "      <td>1.218762</td>\n",
       "      <td>0.064474</td>\n",
       "      <td>-1.975467</td>\n",
       "      <td>-1.209695</td>\n",
       "      <td>1.530751</td>\n",
       "      <td>0.599929</td>\n",
       "      <td>0.486502</td>\n",
       "      <td>-0.939335</td>\n",
       "      <td>-0.144088</td>\n",
       "      <td>1.014088</td>\n",
       "      <td>-115.903476</td>\n",
       "    </tr>\n",
       "    <tr>\n",
       "      <th>1</th>\n",
       "      <td>0.530867</td>\n",
       "      <td>1.737985</td>\n",
       "      <td>0.428968</td>\n",
       "      <td>-0.068286</td>\n",
       "      <td>-0.302269</td>\n",
       "      <td>-0.263424</td>\n",
       "      <td>-0.386929</td>\n",
       "      <td>0.338758</td>\n",
       "      <td>-0.128398</td>\n",
       "      <td>0.033069</td>\n",
       "      <td>79.902737</td>\n",
       "    </tr>\n",
       "    <tr>\n",
       "      <th>2</th>\n",
       "      <td>-0.477411</td>\n",
       "      <td>-0.060404</td>\n",
       "      <td>1.127780</td>\n",
       "      <td>0.990166</td>\n",
       "      <td>0.526537</td>\n",
       "      <td>-0.217131</td>\n",
       "      <td>0.243530</td>\n",
       "      <td>0.086111</td>\n",
       "      <td>-0.746923</td>\n",
       "      <td>0.458295</td>\n",
       "      <td>42.864300</td>\n",
       "    </tr>\n",
       "    <tr>\n",
       "      <th>3</th>\n",
       "      <td>0.260442</td>\n",
       "      <td>-1.367138</td>\n",
       "      <td>0.848174</td>\n",
       "      <td>0.625631</td>\n",
       "      <td>0.582027</td>\n",
       "      <td>-0.696772</td>\n",
       "      <td>0.463206</td>\n",
       "      <td>-1.232523</td>\n",
       "      <td>0.552300</td>\n",
       "      <td>-1.571520</td>\n",
       "      <td>-48.730931</td>\n",
       "    </tr>\n",
       "    <tr>\n",
       "      <th>4</th>\n",
       "      <td>0.850898</td>\n",
       "      <td>-0.303726</td>\n",
       "      <td>-1.345871</td>\n",
       "      <td>0.874389</td>\n",
       "      <td>0.193590</td>\n",
       "      <td>0.262561</td>\n",
       "      <td>-0.658116</td>\n",
       "      <td>-0.819258</td>\n",
       "      <td>-0.476221</td>\n",
       "      <td>0.036336</td>\n",
       "      <td>-97.304671</td>\n",
       "    </tr>\n",
       "  </tbody>\n",
       "</table>\n",
       "</div>"
      ],
      "text/plain": [
       "   feature_0  feature_1  feature_2  feature_3  feature_4  feature_5  \\\n",
       "0   1.218762   0.064474  -1.975467  -1.209695   1.530751   0.599929   \n",
       "1   0.530867   1.737985   0.428968  -0.068286  -0.302269  -0.263424   \n",
       "2  -0.477411  -0.060404   1.127780   0.990166   0.526537  -0.217131   \n",
       "3   0.260442  -1.367138   0.848174   0.625631   0.582027  -0.696772   \n",
       "4   0.850898  -0.303726  -1.345871   0.874389   0.193590   0.262561   \n",
       "\n",
       "   feature_6  feature_7  feature_8  feature_9       label  \n",
       "0   0.486502  -0.939335  -0.144088   1.014088 -115.903476  \n",
       "1  -0.386929   0.338758  -0.128398   0.033069   79.902737  \n",
       "2   0.243530   0.086111  -0.746923   0.458295   42.864300  \n",
       "3   0.463206  -1.232523   0.552300  -1.571520  -48.730931  \n",
       "4  -0.658116  -0.819258  -0.476221   0.036336  -97.304671  "
      ]
     },
     "execution_count": 2,
     "metadata": {},
     "output_type": "execute_result"
    }
   ],
   "source": [
    "#fájl betöltése és könyvtárak importálása\n",
    "import pandas as pd\n",
    "from sklearn.model_selection import train_test_split\n",
    "from sklearn.linear_model import LogisticRegression\n",
    "from sklearn import metrics\n",
    "import seaborn as sn\n",
    "import matplotlib.pyplot as plt\n",
    "pot = pd.read_csv(\"adatszet_pot.csv\") \n",
    "pot.head()"
   ]
  },
  {
   "cell_type": "code",
   "execution_count": 3,
   "id": "d6b61377",
   "metadata": {},
   "outputs": [
    {
     "name": "stdout",
     "output_type": "stream",
     "text": [
      "0   -115.903476\n",
      "1     79.902737\n",
      "2     42.864300\n",
      "3    -48.730931\n",
      "4    -97.304671\n",
      "Name: label, dtype: float64\n",
      "   feature_0  feature_1  feature_2  feature_3  feature_4  feature_5  \\\n",
      "0   1.218762   0.064474  -1.975467  -1.209695   1.530751   0.599929   \n",
      "1   0.530867   1.737985   0.428968  -0.068286  -0.302269  -0.263424   \n",
      "2  -0.477411  -0.060404   1.127780   0.990166   0.526537  -0.217131   \n",
      "3   0.260442  -1.367138   0.848174   0.625631   0.582027  -0.696772   \n",
      "4   0.850898  -0.303726  -1.345871   0.874389   0.193590   0.262561   \n",
      "\n",
      "   feature_6  feature_7  feature_8  feature_9  \n",
      "0   0.486502  -0.939335  -0.144088   1.014088  \n",
      "1  -0.386929   0.338758  -0.128398   0.033069  \n",
      "2   0.243530   0.086111  -0.746923   0.458295  \n",
      "3   0.463206  -1.232523   0.552300  -1.571520  \n",
      "4  -0.658116  -0.819258  -0.476221   0.036336  \n"
     ]
    }
   ],
   "source": [
    "#feature-k és labelek szétválasztása\n",
    "pot = pot.rename(columns={'# feature_0':'feature_0'}) \n",
    "# label célváltozó leválasztása és mentése külön változóba\n",
    "y= pot.label\n",
    "print(y.head())\n",
    "\n",
    "# feature-k mentése az x változóba\n",
    "x=pot.drop('label',axis=1) \n",
    "print(x.head())\n"
   ]
  },
  {
   "cell_type": "code",
   "execution_count": 4,
   "id": "9109d429",
   "metadata": {},
   "outputs": [],
   "source": [
    "#train és test halmaz felosztása 80-20 arányban\n",
    "from sklearn.model_selection import train_test_split\n",
    "x_train,x_test,y_train,y_test = train_test_split(x,y,test_size=0.2)\n"
   ]
  },
  {
   "cell_type": "code",
   "execution_count": 5,
   "id": "102a508b",
   "metadata": {},
   "outputs": [
    {
     "name": "stdout",
     "output_type": "stream",
     "text": [
      "Accuracy: 0.8408819637122916\n"
     ]
    }
   ],
   "source": [
    "#random forest regresszió\n",
    "#modell létrehozása \n",
    "from sklearn.ensemble import RandomForestRegressor\n",
    "randomforest = RandomForestRegressor(n_estimators=100, max_features=3, random_state=2)\n",
    "\n",
    "#tanítás\n",
    "randomforest.fit(x_train, y_train) \n",
    "\n",
    "#a modell pontosságának megadása\n",
    "print(\"Accuracy:\", randomforest.score(x_test, y_test))"
   ]
  },
  {
   "cell_type": "code",
   "execution_count": 35,
   "id": "3c3a7b27",
   "metadata": {},
   "outputs": [],
   "source": [
    "#SVM regresszió\n",
    "# modell létrehozása\n",
    "from sklearn import svm\n",
    "supportvector = svm.SVR(kernel='linear') #lineáris kernelt használó modell létrehozása\n",
    "\n",
    "#tanítás\n",
    "supportvector.fit(x_train, y_train) \n",
    "\n",
    "#predikció, tesztelés\n",
    "y_pred = supportvector.predict(x_test) \n",
    "\n",
    "\n",
    "# a modell pontosságának megadása -- ehhez kellene még egy reshape, hogy működjön\n",
    "#print(\"Accuracy:\",supportvector.score(y_test, y_pred, sample_weight=None))"
   ]
  },
  {
   "cell_type": "code",
   "execution_count": 27,
   "id": "2a856d00",
   "metadata": {},
   "outputs": [
    {
     "name": "stdout",
     "output_type": "stream",
     "text": [
      "coefficient of determination: 0.9671552785171786\n"
     ]
    }
   ],
   "source": [
    "#Lineáris regresszió\n",
    "from sklearn.linear_model import LinearRegression\n",
    "linreg = LinearRegression() \n",
    "linreg = linreg.fit(x, y)\n",
    "\n",
    "r_sq = linreg.score(x, y) #r^2 kiszámítása\n",
    "\n",
    "# Print r_sq\n",
    "print('coefficient of determination:', r_sq)\n",
    "\n"
   ]
  },
  {
   "cell_type": "code",
   "execution_count": 29,
   "id": "abd06834",
   "metadata": {},
   "outputs": [
    {
     "name": "stdout",
     "output_type": "stream",
     "text": [
      "0.9470517317191833\n",
      "0.9485318157382185\n"
     ]
    }
   ],
   "source": [
    "#ensemble modell létrehozása\n",
    "#adatszerkezet létrehozása az elemek tárolására\n",
    "from sklearn.ensemble import VotingRegressor\n",
    "estimators = []\n",
    "\n",
    "#az osztályozók hozzáadása az arrayhez\n",
    "linregression = LinearRegression() \n",
    "estimators.append(('linearregression', linregression)) \n",
    "randomforest = RandomForestRegressor(n_estimators=100, max_features=3, random_state=2)\n",
    "estimators.append(('randomforest', randomforest)) \n",
    "supportvector = svm.SVR(kernel='linear')\n",
    "estimators.append(('svm', supportvector)) \n",
    "\n",
    "#voting classifier megalkotása\n",
    "ensemble = VotingRegressor(estimators)\n",
    "\n",
    "#keresztvalidáció segíségével kiszámoljuk az ensemble modell pontosságát\n",
    "from sklearn import model_selection\n",
    "results = model_selection.cross_val_score(ensemble, x, y, cv=10)\n",
    "print(results.mean()) #a modell pontossága \n",
    "\n",
    "#modell pontosságának megadása\n",
    "ensemble.fit(x_train, y_train)\n",
    "print(ensemble.score(x_test, y_test))"
   ]
  },
  {
   "cell_type": "code",
   "execution_count": null,
   "id": "1fec1041",
   "metadata": {},
   "outputs": [],
   "source": [
    "#A voting ensemble modell hatékonyabban prediktál, mint a különálló modellek."
   ]
  }
 ],
 "metadata": {
  "kernelspec": {
   "display_name": "Python 3 (ipykernel)",
   "language": "python",
   "name": "python3"
  },
  "language_info": {
   "codemirror_mode": {
    "name": "ipython",
    "version": 3
   },
   "file_extension": ".py",
   "mimetype": "text/x-python",
   "name": "python",
   "nbconvert_exporter": "python",
   "pygments_lexer": "ipython3",
   "version": "3.9.7"
  }
 },
 "nbformat": 4,
 "nbformat_minor": 5
}
