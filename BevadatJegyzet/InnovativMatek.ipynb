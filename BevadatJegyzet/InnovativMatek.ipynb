{
 "cells": [
  {
   "cell_type": "markdown",
   "metadata": {},
   "source": [
    "#### 2. dia: Norma"
   ]
  },
  {
   "cell_type": "markdown",
   "metadata": {},
   "source": [
    "Norma: általánosított vektorhossz, vektortérben értelmezett\n",
    "    Egy függvény norma, ha:\n",
    "        0, avagy üres a V vektortere\n",
    "        homogén / skálázható\n",
    "        szubadditív / háromszög-egyenlőtlen\n",
    "\n",
    "Hölder-norma / p-norma:\n",
    "    Egységsugaró körök 2D valós vektortérben:\n",
    "        Euklidészi norma: sqrt(x1^2 + x2^2)\n",
    "        Manhattan norma: |x1| + |x2|\n",
    "        Csebisev norma: max{|x1|; |x2|} "
   ]
  },
  {
   "cell_type": "markdown",
   "metadata": {},
   "source": [
    "Metrika: Általánosított távolság, halmazban nem feltétlen vektortérben értelmezett\n",
    "    A függvény metrika:\n",
    "        x és y távolsága megegyezik, vagy x és y ugyanaz\n",
    "        szimmetrikus\n",
    "        háromszög-egyenlőtlen\n",
    "    V minden normájából ki lehet számolni a metrikát:\n",
    "        d(u; v) = ||u - v|| (u és v norma különbségéből kijön a metrika)\n",
    "    V minden metrikájából ki lehet számolni a normát:\n",
    "        ||v|| = d(0; v) (0 és v metrika között távolságából kijön a norma)\n"
   ]
  },
  {
   "cell_type": "markdown",
   "metadata": {},
   "source": [
    "Átlagoló módszerek:\n",
    "    MAE: Mean Absolute Error\n",
    "    RMSE: Root Mean Squared Error\n",
    "    MSE: Mean Squared Error"
   ]
  }
 ],
 "metadata": {
  "language_info": {
   "name": "python"
  },
  "orig_nbformat": 4
 },
 "nbformat": 4,
 "nbformat_minor": 2
}
